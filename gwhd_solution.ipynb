{
 "cells": [
  {
   "cell_type": "code",
   "execution_count": null,
   "metadata": {},
   "outputs": [],
   "source": [
    "import pandas as pd\n",
    "import os"
   ]
  },
  {
   "cell_type": "code",
   "execution_count": null,
   "metadata": {},
   "outputs": [],
   "source": [
    "from PIL import Image, ImageDraw\n",
    "import matplotlib.pyplot as plt\n",
    "import torch\n",
    "import torchvision\n",
    "from torch.utils.data import Dataset, DataLoader\n",
    "from torchvision.models.detection import fasterrcnn_resnet50_fpn\n",
    "from torchvision.transforms import transforms as T\n",
    "from tqdm.notebook import tqdm\n",
    "\n",
    "device = torch.device('cuda') if torch.cuda.is_available() else torch.device('cpu')\n",
    "print(device)"
   ]
  },
  {
   "cell_type": "code",
   "execution_count": null,
   "metadata": {},
   "outputs": [],
   "source": [
    "print(torch.cuda.is_available())"
   ]
  },
  {
   "cell_type": "code",
   "execution_count": null,
   "metadata": {},
   "outputs": [],
   "source": [
    "df_train = pd.read_csv('competition_train.csv')\n",
    "df_train = df_train.loc[~df_train['BoxesString'].str.contains('no_box'),:].reset_index(drop=True)\n",
    "df_val = pd.read_csv('competition_val.csv')\n",
    "df_val = df_val.loc[~df_val['BoxesString'].str.contains('no_box'),:].reset_index(drop=True)\n",
    "df_test = pd.read_csv('competition_test.csv')\n",
    "df_test = df_test.loc[~df_test['BoxesString'].str.contains('no_box'),:].reset_index(drop=True)\n",
    "print(df_train)"
   ]
  },
  {
   "cell_type": "code",
   "execution_count": null,
   "metadata": {},
   "outputs": [],
   "source": [
    "def convert_boxes_string_to_list(boxes_string):\n",
    "    groups = boxes_string.split(\";\")\n",
    "    result = []\n",
    "    for group in groups:\n",
    "        nums = group.split()\n",
    "        # Filtrar valores que no son números\n",
    "        nums = [int(num) for num in nums if num.isdigit()]\n",
    "        result.append(nums)\n",
    "    return result\n",
    "\n",
    "# Aplica la función a la columna 'BoxesString'\n",
    "df_test['BoxesString'] = df_test['BoxesString'].apply(convert_boxes_string_to_list)\n",
    "df_train['BoxesString'] = df_train['BoxesString'].apply(convert_boxes_string_to_list)\n",
    "df_val['BoxesString'] = df_val['BoxesString'].apply(convert_boxes_string_to_list)\n",
    "\n",
    "print(df_train.head())\n",
    "\n"
   ]
  },
  {
   "cell_type": "code",
   "execution_count": null,
   "metadata": {},
   "outputs": [],
   "source": [
    "class ImageDataset(Dataset):\n",
    "    def __init__(self, df, root_dir):\n",
    "        self.df = df\n",
    "        self.root_dir = root_dir\n",
    "\n",
    "    def __len__(self):\n",
    "        return len(self.df)\n",
    "\n",
    "    def __getitem__(self, idx):\n",
    "        img_name = os.path.join(self.root_dir, self.df.iloc[idx, 0])\n",
    "        image = T.ToTensor()(Image.open(img_name).convert(\"RGB\"))/255\n",
    "        boxes = self.df.iloc[idx, 1]\n",
    "        num_objs = len(boxes)\n",
    "        boxes = torch.tensor(boxes, dtype=torch.float32)\n",
    "\n",
    "        labels = torch.ones((len(boxes),), dtype=torch.int64)\n",
    "\n",
    "        area = (boxes[:, 3] - boxes[:, 1]) * (boxes[:, 2] - boxes[:, 0])\n",
    "        iscrowd = torch.zeros((num_objs,), dtype=torch.int64)\n",
    "\n",
    "        target = {\n",
    "            \"boxes\": boxes,\n",
    "            \"labels\": labels,\n",
    "            \"image_id\": torch.tensor([idx]),\n",
    "            \"area\": area,\n",
    "            \"iscrowd\": iscrowd\n",
    "        }\n",
    "\n",
    "        return image, target\n",
    "\n",
    "    def print_image(self, idx):\n",
    "        img_name = os.path.join(self.root_dir, self.df.iloc[idx, 0])\n",
    "        image = Image.open(img_name)\n",
    "        draw = ImageDraw.Draw(image)\n",
    "        boxes = self.df.iloc[idx, 1]\n",
    "        for box in boxes:\n",
    "            draw.rectangle(box, outline=\"red\", width=4)\n",
    "        plt.imshow(image)\n",
    "        plt.show()"
   ]
  },
  {
   "cell_type": "code",
   "execution_count": null,
   "metadata": {},
   "outputs": [],
   "source": [
    "dataset_train = ImageDataset(df_train, 'images')\n",
    "dataset_val = ImageDataset(df_val, 'images')\n",
    "dataset_test = ImageDataset(df_test, 'images')\n",
    "\n",
    "dataset_val.print_image(0)"
   ]
  },
  {
   "cell_type": "code",
   "execution_count": null,
   "metadata": {},
   "outputs": [],
   "source": [
    "model = fasterrcnn_resnet50_fpn(progress=True, pretrained_backbone=True, num_classes=2, box_detections_per_img=200)\n",
    "model.to(device)\n",
    "\n",
    "\n",
    "\n",
    "optimizer = torch.optim.Adam(model.parameters(),lr=0.001)\n",
    "\n",
    "def collate_fn(batch):\n",
    "    images = [item[0] for item in batch]\n",
    "    targets = [item[1] for item in batch]\n",
    "    images = torch.stack(images, dim=0)\n",
    "    return images, targets\n",
    "\n",
    "data_loader_train = DataLoader(dataset_train, batch_size=8, collate_fn=collate_fn, shuffle=True)\n",
    "len(data_loader_train)"
   ]
  },
  {
   "cell_type": "code",
   "execution_count": null,
   "metadata": {},
   "outputs": [],
   "source": [
    "class EarlyStopping:\n",
    "    def __init__(self, patience):\n",
    "        self.best = 10\n",
    "        self.count = 0\n",
    "        self.patience = patience\n",
    "\n",
    "    def earlyStopping(self, num):\n",
    "        if num <= self.best:\n",
    "            self.best = num\n",
    "            self.count = 0\n",
    "        else:\n",
    "            self.count += 1\n",
    "        if self.count >= self.patience:\n",
    "            return self.best\n",
    "        return None"
   ]
  },
  {
   "cell_type": "code",
   "execution_count": null,
   "metadata": {},
   "outputs": [],
   "source": [
    "model.train()\n",
    "early_stopping = EarlyStopping(3)\n",
    "\n",
    "losses_dict = {'loss_classifier': [], 'loss_box_reg': [], 'loss_objectness': [], 'loss_rpn_box_reg': [], 'total_loss': []}\n",
    "stop_training = False\n",
    "\n",
    "for epoch in tqdm(range(10), desc='epochs', colour='green'):\n",
    "    if stop_training: \n",
    "        break\n",
    "    \n",
    "    losses_avg = {'loss_classifier': [], 'loss_box_reg': [], 'loss_objectness': [], 'loss_rpn_box_reg': [], 'total_loss': []}\n",
    "\n",
    "    for images, targets in tqdm(data_loader_train, desc='dataloader', colour='blue'):\n",
    "        images = images.to(device)\n",
    "        targets = [{k: v.to(device) for k, v in target.items()} for target in targets]\n",
    "\n",
    "        loss_dict = model(images, targets)\n",
    "        losses_avg['loss_classifier'].append(loss_dict['loss_classifier'].item())\n",
    "        losses_avg['loss_box_reg'].append(loss_dict['loss_box_reg'].item())\n",
    "        losses_avg['loss_objectness'].append(loss_dict['loss_objectness'].item())\n",
    "        losses_avg['loss_rpn_box_reg'].append(loss_dict['loss_rpn_box_reg'].item())\n",
    "        losses = sum(loss for loss in loss_dict.values())\n",
    "        losses_avg['total_loss'].append(losses.item())\n",
    "\n",
    "\n",
    "\n",
    "        # for loss in losses_dict['total_loss']:\n",
    "        #     best = early_stopping.earlyStopping(loss)\n",
    "        #     if best is not None:\n",
    "        #         stop_training = True \n",
    "        #         break\n",
    "        # if best is None:  \n",
    "        #     best = early_stopping.best\n",
    "        losses.backward()\n",
    "        optimizer.step()\n",
    "        optimizer.zero_grad()  \n",
    "    losses_dict['loss_classifier'].append(sum(losses_avg['loss_classifier'])/len(losses_avg['loss_classifier']))\n",
    "    losses_dict['loss_box_reg'].append(sum(losses_avg['loss_box_reg'])/len(losses_avg['loss_box_reg']))\n",
    "    losses_dict['loss_objectness'].append(sum(losses_avg['loss_objectness'])/len(losses_avg['loss_objectness']))\n",
    "    losses_dict['loss_rpn_box_reg'].append(sum(losses_avg['loss_rpn_box_reg'])/len(losses_avg['loss_rpn_box_reg']))\n",
    "    losses_dict['total_loss'].append(sum(losses_avg['total_loss'])/len(losses_avg['total_loss']))\n",
    "    print(f\"Epoch {epoch + 1}, loss_classifier: {losses_dict['loss_classifier']}\\n loss_box_reg: {losses_dict['loss_box_reg']}\\n loss_objectness: {losses_dict['loss_objectness']}\\n loss_rpn_box_reg: {losses_dict['loss_rpn_box_reg']}\\n total_loss: {losses_dict['total_loss']}\")"
   ]
  }
 ],
 "metadata": {
  "kernelspec": {
   "display_name": "cragenv",
   "language": "python",
   "name": "python3"
  },
  "language_info": {
   "codemirror_mode": {
    "name": "ipython",
    "version": 3
   },
   "file_extension": ".py",
   "mimetype": "text/x-python",
   "name": "python",
   "nbconvert_exporter": "python",
   "pygments_lexer": "ipython3",
   "version": "3.10.0"
  }
 },
 "nbformat": 4,
 "nbformat_minor": 2
}
