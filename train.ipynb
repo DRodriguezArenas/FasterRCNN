{
 "cells": [
  {
   "cell_type": "code",
   "execution_count": 3,
   "metadata": {},
   "outputs": [],
   "source": [
    "import os\n",
    "import cv2\n",
    "import numpy as np\n",
    "from PIL import Image\n",
    "from utils.resize import resize_images_masks"
   ]
  },
  {
   "cell_type": "code",
   "execution_count": null,
   "metadata": {},
   "outputs": [],
   "source": [
    "img_dir = 'data/Images'\n",
    "mask_dir = 'data/masks'\n",
    "\n",
    "resize_images_masks(img_dir, mask_dir)"
   ]
  },
  {
   "cell_type": "code",
   "execution_count": 32,
   "metadata": {},
   "outputs": [
    {
     "name": "stdout",
     "output_type": "stream",
     "text": [
      "['obj']\n"
     ]
    }
   ],
   "source": [
    "# img = cv2.imread('data/Images/20220629_R1T16_PRF_130_PIC1.jpg')\n",
    "# mask = np.load('data/masks/20220629_R1T16_PRF_130_PIC1.npz', allow_pickle=True)\n",
    "# print(mask.files)\n",
    "# imagen = mask['obj']"
   ]
  }
 ],
 "metadata": {
  "kernelspec": {
   "display_name": "cragenv",
   "language": "python",
   "name": "python3"
  },
  "language_info": {
   "codemirror_mode": {
    "name": "ipython",
    "version": 3
   },
   "file_extension": ".py",
   "mimetype": "text/x-python",
   "name": "python",
   "nbconvert_exporter": "python",
   "pygments_lexer": "ipython3",
   "version": "3.10.13"
  }
 },
 "nbformat": 4,
 "nbformat_minor": 2
}
