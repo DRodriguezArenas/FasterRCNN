{
 "cells": [
  {
   "cell_type": "code",
   "execution_count": 1,
   "metadata": {},
   "outputs": [
    {
     "name": "stdout",
     "output_type": "stream",
     "text": [
      "cuda\n"
     ]
    }
   ],
   "source": [
    "from utils.masks_bb import masks_bb\n",
    "from utils.dataset import StrawberryDataset\n",
    "from torchvision.models.detection import maskrcnn_resnet50_fpn\n",
    "from torch.utils.data import DataLoader\n",
    "from torchvision.ops import box_iou\n",
    "from tqdm.notebook import tqdm \n",
    "\n",
    "import torch\n",
    "device = torch.device('cuda') if torch.cuda.is_available() else torch.device('cpu')\n",
    "print(device)"
   ]
  },
  {
   "cell_type": "code",
   "execution_count": 2,
   "metadata": {},
   "outputs": [],
   "source": [
    "#  partition_data('data/Images_resized/', 'data/masks_resized/', 'data/train/Images/', 'data/train/masks/', 'data/test/Images/', 'data/test/masks/')"
   ]
  },
  {
   "cell_type": "code",
   "execution_count": 3,
   "metadata": {},
   "outputs": [],
   "source": [
    "masks_train, boxes_train = masks_bb('data/train/masks/')\n",
    "masks_test, boxes_test = masks_bb('data/test/masks/')"
   ]
  },
  {
   "cell_type": "code",
   "execution_count": 4,
   "metadata": {},
   "outputs": [],
   "source": [
    "dataset_train = StrawberryDataset('data/train/Images/', 'data/train/masks/', boxes_train, masks_train)\n",
    "dataset_test = StrawberryDataset('data/test/Images/', 'data/test/masks/', boxes_test, masks_test)"
   ]
  },
  {
   "cell_type": "code",
   "execution_count": 5,
   "metadata": {},
   "outputs": [
    {
     "name": "stderr",
     "output_type": "stream",
     "text": [
      "c:\\Users\\jbote\\Desktop\\strawberry_dataset\\.venv\\lib\\site-packages\\torchvision\\models\\_utils.py:208: UserWarning: The parameter 'pretrained_backbone' is deprecated since 0.13 and may be removed in the future, please use 'weights_backbone' instead.\n",
      "  warnings.warn(\n",
      "c:\\Users\\jbote\\Desktop\\strawberry_dataset\\.venv\\lib\\site-packages\\torchvision\\models\\_utils.py:223: UserWarning: Arguments other than a weight enum or `None` for 'weights_backbone' are deprecated since 0.13 and may be removed in the future. The current behavior is equivalent to passing `weights_backbone=ResNet50_Weights.IMAGENET1K_V1`. You can also use `weights_backbone=ResNet50_Weights.DEFAULT` to get the most up-to-date weights.\n",
      "  warnings.warn(msg)\n"
     ]
    }
   ],
   "source": [
    "model = maskrcnn_resnet50_fpn(progress=True, pretrained_backbone=True, num_classes=2, box_detections_per_img=12)\n",
    "model.to(device)\n",
    "\n",
    "optimizer = torch.optim.Adam(model.parameters(),lr=0.001)\n",
    "\n",
    "def collate_fn(batch):\n",
    "    return tuple(zip(*batch))\n",
    "\n",
    "data_loader_train = DataLoader(dataset_train, batch_size=4, collate_fn=collate_fn, shuffle=True)\n",
    "data_loader_test = DataLoader(dataset_test, batch_size=4, collate_fn=collate_fn, shuffle=True)"
   ]
  },
  {
   "cell_type": "code",
   "execution_count": 6,
   "metadata": {},
   "outputs": [
    {
     "name": "stdout",
     "output_type": "stream",
     "text": [
      "{'boxes': tensor([[752., 269., 871., 416.],\n",
      "        [786., 578., 898., 737.],\n",
      "        [549., 285., 640., 392.],\n",
      "        [568., 566., 665., 703.],\n",
      "        [319., 250., 434., 416.],\n",
      "        [348., 587., 436., 708.],\n",
      "        [118., 607., 207., 730.]], device='cuda:0'), 'labels': tensor([1, 1, 1, 1, 1, 1, 1, 1, 1, 1, 1, 1, 1, 1, 1, 1, 1, 1, 1, 1, 1, 1, 1, 1,\n",
      "        1, 1, 1, 1, 1, 1, 1, 1, 1, 1, 1, 1, 1, 1, 1, 1, 1, 1, 1, 1, 1, 1, 1, 1,\n",
      "        1, 1, 1, 1, 1, 1, 1, 1, 1, 1, 1, 1, 1, 1, 1, 1, 1, 1, 1, 1, 1, 1, 1, 1,\n",
      "        1, 1, 1, 1, 1, 1, 1, 1, 1, 1, 1, 1, 1, 1, 1, 1, 1, 1, 1, 1, 1, 1, 1, 1,\n",
      "        1, 1, 1, 1, 1, 1, 1, 1, 1, 1, 1, 1, 1, 1, 1, 1, 1, 1, 1, 1, 1, 1, 1, 1,\n",
      "        1, 1, 1, 1, 1, 1, 1, 1, 1, 1, 1, 1, 1, 1, 1, 1, 1, 1, 1, 1, 1, 1, 1, 1,\n",
      "        1, 1, 1, 1, 1, 1, 1, 1, 1, 1, 1, 1, 1, 1, 1, 1, 1, 1, 1, 1, 1, 1, 1, 1,\n",
      "        1, 1, 1, 1, 1, 1, 1, 1, 1, 1, 1, 1, 1, 1, 1, 1, 1, 1, 1, 1, 1, 1, 1, 1,\n",
      "        1, 1, 1, 1, 1, 1, 1, 1, 1, 1, 1, 1, 1, 1, 1, 1, 1, 1, 1, 1, 1, 1, 1, 1,\n",
      "        1, 1, 1, 1, 1, 1, 1, 1, 1, 1, 1, 1, 1, 1, 1, 1, 1, 1, 1, 1, 1, 1, 1, 1,\n",
      "        1, 1, 1, 1, 1, 1, 1, 1, 1, 1, 1, 1, 1, 1, 1, 1], device='cuda:0'), 'masks': tensor([[[0, 0, 0,  ..., 0, 0, 0],\n",
      "         [0, 0, 0,  ..., 0, 0, 0],\n",
      "         [0, 0, 0,  ..., 0, 0, 0],\n",
      "         ...,\n",
      "         [0, 0, 0,  ..., 0, 0, 0],\n",
      "         [0, 0, 0,  ..., 0, 0, 0],\n",
      "         [0, 0, 0,  ..., 0, 0, 0]],\n",
      "\n",
      "        [[0, 0, 0,  ..., 0, 0, 0],\n",
      "         [0, 0, 0,  ..., 0, 0, 0],\n",
      "         [0, 0, 0,  ..., 0, 0, 0],\n",
      "         ...,\n",
      "         [0, 0, 0,  ..., 0, 0, 0],\n",
      "         [0, 0, 0,  ..., 0, 0, 0],\n",
      "         [0, 0, 0,  ..., 0, 0, 0]],\n",
      "\n",
      "        [[0, 0, 0,  ..., 0, 0, 0],\n",
      "         [0, 0, 0,  ..., 0, 0, 0],\n",
      "         [0, 0, 0,  ..., 0, 0, 0],\n",
      "         ...,\n",
      "         [0, 0, 0,  ..., 0, 0, 0],\n",
      "         [0, 0, 0,  ..., 0, 0, 0],\n",
      "         [0, 0, 0,  ..., 0, 0, 0]],\n",
      "\n",
      "        ...,\n",
      "\n",
      "        [[0, 0, 0,  ..., 0, 0, 0],\n",
      "         [0, 0, 0,  ..., 0, 0, 0],\n",
      "         [0, 0, 0,  ..., 0, 0, 0],\n",
      "         ...,\n",
      "         [0, 0, 0,  ..., 0, 0, 0],\n",
      "         [0, 0, 0,  ..., 0, 0, 0],\n",
      "         [0, 0, 0,  ..., 0, 0, 0]],\n",
      "\n",
      "        [[0, 0, 0,  ..., 0, 0, 0],\n",
      "         [0, 0, 0,  ..., 0, 0, 0],\n",
      "         [0, 0, 0,  ..., 0, 0, 0],\n",
      "         ...,\n",
      "         [0, 0, 0,  ..., 0, 0, 0],\n",
      "         [0, 0, 0,  ..., 0, 0, 0],\n",
      "         [0, 0, 0,  ..., 0, 0, 0]],\n",
      "\n",
      "        [[0, 0, 0,  ..., 0, 0, 0],\n",
      "         [0, 0, 0,  ..., 0, 0, 0],\n",
      "         [0, 0, 0,  ..., 0, 0, 0],\n",
      "         ...,\n",
      "         [0, 0, 0,  ..., 0, 0, 0],\n",
      "         [0, 0, 0,  ..., 0, 0, 0],\n",
      "         [0, 0, 0,  ..., 0, 0, 0]]], device='cuda:0', dtype=torch.uint8), 'image_id': tensor([16], device='cuda:0'), 'area': tensor([17493., 17808.,  9737., 13289., 19090., 10648., 10947.],\n",
      "       device='cuda:0'), 'iscrowd': tensor([0, 0, 0, 0, 0, 0, 0, 0, 0, 0, 0, 0, 0, 0, 0, 0, 0, 0, 0, 0, 0, 0, 0, 0,\n",
      "        0, 0, 0, 0, 0, 0, 0, 0, 0, 0, 0, 0, 0, 0, 0, 0, 0, 0, 0, 0, 0, 0, 0, 0,\n",
      "        0, 0, 0, 0, 0, 0, 0, 0, 0, 0, 0, 0, 0, 0, 0, 0, 0, 0, 0, 0, 0, 0, 0, 0,\n",
      "        0, 0, 0, 0, 0, 0, 0, 0, 0, 0, 0, 0, 0, 0, 0, 0, 0, 0, 0, 0, 0, 0, 0, 0,\n",
      "        0, 0, 0, 0, 0, 0, 0, 0, 0, 0, 0, 0, 0, 0, 0, 0, 0, 0, 0, 0, 0, 0, 0, 0,\n",
      "        0, 0, 0, 0, 0, 0, 0, 0, 0, 0, 0, 0, 0, 0, 0, 0, 0, 0, 0, 0, 0, 0, 0, 0,\n",
      "        0, 0, 0, 0, 0, 0, 0, 0, 0, 0, 0, 0, 0, 0, 0, 0, 0, 0, 0, 0, 0, 0, 0, 0,\n",
      "        0, 0, 0, 0, 0, 0, 0, 0, 0, 0, 0, 0, 0, 0, 0, 0, 0, 0, 0, 0, 0, 0, 0, 0,\n",
      "        0, 0, 0, 0, 0, 0, 0, 0, 0, 0, 0, 0, 0, 0, 0, 0, 0, 0, 0, 0, 0, 0, 0, 0,\n",
      "        0, 0, 0, 0, 0, 0, 0, 0, 0, 0, 0, 0, 0, 0, 0, 0, 0, 0, 0, 0, 0, 0, 0, 0,\n",
      "        0, 0, 0, 0, 0, 0, 0, 0, 0, 0, 0, 0, 0, 0, 0, 0], device='cuda:0')}\n"
     ]
    }
   ],
   "source": [
    "batch = next(iter(data_loader_train))\n",
    "images, targets = batch\n",
    "images = torch.stack(images).to(device) \n",
    "targets = [{k: v.to(device) for k, v in t.items()} for t in targets]\n",
    "print(targets[0])"
   ]
  },
  {
   "cell_type": "code",
   "execution_count": null,
   "metadata": {},
   "outputs": [],
   "source": [
    "losses_dict = {'loss_classifier': [], 'loss_box_reg': [], 'loss_mask': [], 'loss_objectness': [], 'loss_rpn_box_reg': [], 'total_loss': []}\n",
    "\n",
    "for epoch in tqdm(range(10), desc='Epochs', colour='green'):\n",
    "    losses_avg = {'loss_classifier': [], 'loss_box_reg': [], 'loss_mask': [], 'loss_objectness': [], 'loss_rpn_box_reg': [], 'total_loss': []}\n",
    "    model.train()\n",
    "    for batch in tqdm(data_loader_train, desc='data_loader', colour='blue'):\n",
    "        images, targets = batch\n",
    "        images = torch.stack(images).to(device)\n",
    "        targets = [{k: v.to(device) for k, v in target.items()} for target in targets]\n",
    "        \n",
    "        loss_dict = model(images, targets)\n",
    "        losses = sum(loss for loss in loss_dict.values())\n",
    "        losses.backward()\n",
    "        optimizer.step()\n",
    "        optimizer.zero_grad()  \n",
    "\n",
    "        losses_avg['loss_classifier'].append(loss_dict['loss_classifier'].item())\n",
    "        losses_avg['loss_box_reg'].append(loss_dict['loss_box_reg'].item())\n",
    "        losses_avg['loss_mask'].append(loss_dict['loss_mask'].item())   \n",
    "        losses_avg['loss_objectness'].append(loss_dict['loss_objectness'].item())\n",
    "        losses_avg['loss_rpn_box_reg'].append(loss_dict['loss_rpn_box_reg'].item())\n",
    "        losses_avg['total_loss'].append(losses.item())\n",
    "\n",
    "    losses_dict['loss_classifier'].append(sum(losses_avg['loss_classifier'])/len(losses_avg['loss_classifier']))\n",
    "    losses_dict['loss_box_reg'].append(sum(losses_avg['loss_box_reg'])/len(losses_avg['loss_box_reg']))\n",
    "    losses_dict['loss_mask'].append(sum(losses_avg['loss_mask'])/len(losses_avg['loss_mask']))\n",
    "    losses_dict['loss_objectness'].append(sum(losses_avg['loss_objectness'])/len(losses_avg['loss_objectness']))\n",
    "    losses_dict['loss_rpn_box_reg'].append(sum(losses_avg['loss_rpn_box_reg'])/len(losses_avg['loss_rpn_box_reg']))\n",
    "    losses_dict['total_loss'].append(sum(losses_avg['total_loss'])/len(losses_avg['total_loss']))\n",
    "\n",
    "\n",
    "    model.eval()\n",
    "    total_iou_bb_avg = []\n",
    "    total_iou_mask_avg = []\n",
    "    total_precision = []\n",
    "    total_recall = []\n",
    "\n",
    "    for batch in tqdm(data_loader_test, desc='validation', colour='red'):\n",
    "        images, targets = batch\n",
    "        images = torch.stack(images).to(device)\n",
    "        targets = [{k: v.to(device) for k, v in target.items()} for target in targets]\n",
    "        outputs = model(images)\n",
    "        iou_bb_avg_list = []\n",
    "        iou_mask_avg_list = []\n",
    "        precision_list = []\n",
    "        recall_list = []\n",
    "        for output, target in zip(outputs, targets):\n",
    "            score = output[\"scores\"] > 0.5\n",
    "            output[\"boxes\"] = output[\"boxes\"][score]\n",
    "            output[\"labels\"] = output[\"labels\"][score]\n",
    "            iou = box_iou(output['boxes'], target['boxes'])\n",
    "\n",
    "            true_positive = []\n",
    "            false_positive = []\n",
    "            for i in range(len(iou)):\n",
    "                if iou[i].max().item() > 0.5:\n",
    "                    true_positive.append(iou[i].max().item())\n",
    "                else:\n",
    "                    false_positive.append(iou[i].max().item())\n",
    "            bb_iou_avg = sum(true_positive)/len(true_positive) if len(true_positive) > 0 else 0\n",
    "            intersection = torch.logical_and(output['masks'], target['masks']).sum().float()\n",
    "            union = torch.logical_or(output['masks'], target['masks']).sum().float()\n",
    "            iou_masks_score = intersection / (union + 1e-6)\n",
    "            precision = len(true_positive) / (len(true_positive) + len(false_positive)) if len(true_positive)+len(false_positive) > 0 else 0\n",
    "            recall = sum(true_positive) / len(target['boxes']) if len(target['boxes']) > 0 else 0\n",
    "            iou_bb_avg_list.append(bb_iou_avg)\n",
    "            iou_mask_avg_list.append(iou_masks_score.item())\n",
    "            precision_list.append(precision)\n",
    "            recall_list.append(recall)\n",
    "        total_iou_bb_avg.append(sum(iou_bb_avg_list)/len(iou_bb_avg_list))\n",
    "        total_iou_mask_avg.append(sum(iou_mask_avg_list)/len(iou_mask_avg_list))\n",
    "        total_precision.append(sum(precision_list)/len(precision_list))\n",
    "        total_recall.append(sum(recall_list)/len(recall_list))\n",
    "\n",
    "    print(f\"Epoch {epoch + 1}\\nloss_classifier: {losses_dict['loss_classifier']}\\nloss_box_reg: {losses_dict['loss_box_reg']}\\nloss_mask: {losses_dict['loss_mask']}\\nloss_objectness: {losses_dict['loss_objectness']}\\nloss_rpn_box_reg: {losses_dict['loss_rpn_box_reg']}\\ntotal_loss: {losses_dict['total_loss']}\\nAvg iou bb: {sum(total_iou_bb_avg)/len(total_iou_bb_avg)}\\nAvg iou masks: {sum(total_iou_mask_avg)/len(total_iou_mask_avg)}\\nPrecision: {sum(total_precision)/len(total_precision)}\\nRecall: {sum(total_recall)/len(total_recall)}\")    \n"
   ]
  },
  {
   "cell_type": "code",
   "execution_count": 7,
   "metadata": {},
   "outputs": [],
   "source": [
    "torch.save(model.state_dict(), 'strawberry_model.pth')"
   ]
  }
 ],
 "metadata": {
  "kernelspec": {
   "display_name": ".venv",
   "language": "python",
   "name": "python3"
  },
  "language_info": {
   "codemirror_mode": {
    "name": "ipython",
    "version": 3
   },
   "file_extension": ".py",
   "mimetype": "text/x-python",
   "name": "python",
   "nbconvert_exporter": "python",
   "pygments_lexer": "ipython3",
   "version": "3.10.0"
  }
 },
 "nbformat": 4,
 "nbformat_minor": 2
}
